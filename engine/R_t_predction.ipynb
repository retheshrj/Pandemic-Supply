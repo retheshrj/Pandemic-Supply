{
  "nbformat": 4,
  "nbformat_minor": 0,
  "metadata": {
    "kernelspec": {
      "display_name": "Python 3",
      "language": "python",
      "name": "python3"
    },
    "language_info": {
      "codemirror_mode": {
        "name": "ipython",
        "version": 3
      },
      "file_extension": ".py",
      "mimetype": "text/x-python",
      "name": "python",
      "nbconvert_exporter": "python",
      "pygments_lexer": "ipython3",
      "version": "3.7.6"
    },
    "toc": {
      "base_numbering": 1,
      "nav_menu": {},
      "number_sections": true,
      "sideBar": true,
      "skip_h1_title": false,
      "title_cell": "Table of Contents",
      "title_sidebar": "Contents",
      "toc_cell": false,
      "toc_position": {},
      "toc_section_display": true,
      "toc_window_display": false
    },
    "varInspector": {
      "cols": {
        "lenName": 16,
        "lenType": 16,
        "lenVar": 40
      },
      "kernels_config": {
        "python": {
          "delete_cmd_postfix": "",
          "delete_cmd_prefix": "del ",
          "library": "var_list.py",
          "varRefreshCmd": "print(var_dic_list())"
        },
        "r": {
          "delete_cmd_postfix": ") ",
          "delete_cmd_prefix": "rm(",
          "library": "var_list.r",
          "varRefreshCmd": "cat(var_dic_list()) "
        }
      },
      "types_to_exclude": [
        "module",
        "function",
        "builtin_function_or_method",
        "instance",
        "_Feature"
      ],
      "window_display": false
    },
    "colab": {
      "name": "R_t_predction.ipynb",
      "provenance": []
    },
    "accelerator": "TPU"
  },
  "cells": [
    {
      "cell_type": "code",
      "metadata": {
        "id": "c6TjPE2r7znR",
        "colab_type": "code",
        "colab": {}
      },
      "source": [
        "import pandas as pd\n",
        "import numpy as np\n",
        "from matplotlib import pyplot as plt\n",
        "from matplotlib.dates import date2num, num2date\n",
        "from matplotlib import dates as mdates\n",
        "from matplotlib import ticker\n",
        "from matplotlib.colors import ListedColormap\n",
        "from matplotlib.patches import Patch\n",
        "from scipy import stats as sps\n",
        "from scipy.interpolate import interp1d\n",
        "from IPython.display import clear_output"
      ],
      "execution_count": 0,
      "outputs": []
    },
    {
      "cell_type": "code",
      "metadata": {
        "id": "9VJIOb889yF5",
        "colab_type": "code",
        "outputId": "92f8f621-7fcb-438f-cc76-0fb6091a1d67",
        "colab": {
          "base_uri": "https://localhost:8080/",
          "height": 151
        }
      },
      "source": [
        "!git clone https://github.com/yenlow/twitterpandemicindex.git"
      ],
      "execution_count": 0,
      "outputs": [
        {
          "output_type": "stream",
          "text": [
            "Cloning into 'twitterpandemicindex'...\n",
            "remote: Enumerating objects: 4, done.\u001b[K\n",
            "remote: Counting objects:  25% (1/4)\u001b[K\rremote: Counting objects:  50% (2/4)\u001b[K\rremote: Counting objects:  75% (3/4)\u001b[K\rremote: Counting objects: 100% (4/4)\u001b[K\rremote: Counting objects: 100% (4/4), done.\u001b[K\n",
            "remote: Compressing objects: 100% (4/4), done.\u001b[K\n",
            "remote: Total 424 (delta 0), reused 0 (delta 0), pack-reused 420\u001b[K\n",
            "Receiving objects: 100% (424/424), 70.69 MiB | 20.02 MiB/s, done.\n",
            "Resolving deltas: 100% (204/204), done.\n"
          ],
          "name": "stdout"
        }
      ]
    },
    {
      "cell_type": "code",
      "metadata": {
        "id": "mfkoITkaKb_n",
        "colab_type": "code",
        "outputId": "84a659dc-d8fa-464d-cf99-ac9729692cf4",
        "colab": {
          "base_uri": "https://localhost:8080/",
          "height": 55
        }
      },
      "source": [
        "cd twitterpandemicindex/data \n"
      ],
      "execution_count": 0,
      "outputs": [
        {
          "output_type": "stream",
          "text": [
            "[Errno 2] No such file or directory: 'twitterpandemicindex/data'\n",
            "/root/twitterpandemicindex/data\n"
          ],
          "name": "stdout"
        }
      ]
    },
    {
      "cell_type": "code",
      "metadata": {
        "id": "c8Bra4vKLxmX",
        "colab_type": "code",
        "outputId": "ecdce7d5-9e3a-4c6f-ab7f-d3a5c4c9f266",
        "colab": {
          "base_uri": "https://localhost:8080/",
          "height": 74
        }
      },
      "source": [
        "!unzip maindf.zip"
      ],
      "execution_count": 0,
      "outputs": [
        {
          "output_type": "stream",
          "text": [
            "Archive:  maindf.zip\n",
            "replace maindf.csv? [y]es, [n]o, [A]ll, [N]one, [r]ename: y\n",
            "  inflating: maindf.csv              \n"
          ],
          "name": "stdout"
        }
      ]
    },
    {
      "cell_type": "markdown",
      "metadata": {
        "id": "vulax9-q7znf",
        "colab_type": "text"
      },
      "source": [
        "Maindf is loaded, dates are parsed, and index is declared as a combination of state, county, and date"
      ]
    },
    {
      "cell_type": "code",
      "metadata": {
        "id": "vI7BQK3D7zni",
        "colab_type": "code",
        "colab": {}
      },
      "source": [
        "rt_df = pd.read_csv(\"maindf.csv\", \n",
        "                    usecols = [\"state-county\", \"Date\", \"Confirmed\"], \n",
        "                    parse_dates=[\"Date\"],\n",
        "                    index_col = [\"state-county\", \"Date\"],\n",
        "                    squeeze = True).sort_index()"
      ],
      "execution_count": 0,
      "outputs": []
    },
    {
      "cell_type": "markdown",
      "metadata": {
        "id": "b_rrz0xu7znu",
        "colab_type": "text"
      },
      "source": [
        "Gamma (a constant used in the likelihood function) is declared as 1/7 according to CDC and WHO findings"
      ]
    },
    {
      "cell_type": "code",
      "metadata": {
        "id": "uzcloQv47znv",
        "colab_type": "code",
        "colab": {}
      },
      "source": [
        "R_T_MAX = 5\n",
        "r_t_range = np.linspace(0, R_T_MAX, R_T_MAX*100+1)\n",
        "GAMMA = 1/7"
      ],
      "execution_count": 0,
      "outputs": []
    },
    {
      "cell_type": "markdown",
      "metadata": {
        "id": "YkhhD7O-7zn6",
        "colab_type": "text"
      },
      "source": [
        "A cutoff of at least 25 cases is chosen. A smoothed version of each time series is created"
      ]
    },
    {
      "cell_type": "code",
      "metadata": {
        "id": "G1jEcgEE7zn8",
        "colab_type": "code",
        "colab": {}
      },
      "source": [
        "def prepare_cases(cases, cutoff=25):\n",
        "    new_cases = cases.diff()\n",
        "    smoothed = new_cases.rolling(7,\n",
        "        win_type='gaussian',\n",
        "        min_periods=1,\n",
        "        center=True).mean(std=2).round()\n",
        "    \n",
        "    idx_start = np.searchsorted(smoothed, cutoff)\n",
        "    \n",
        "    smoothed = smoothed.iloc[idx_start:]\n",
        "    original = new_cases.loc[smoothed.index]\n",
        "    \n",
        "    return original, smoothed"
      ],
      "execution_count": 0,
      "outputs": []
    },
    {
      "cell_type": "markdown",
      "metadata": {
        "id": "sZg6N38A7zoD",
        "colab_type": "text"
      },
      "source": [
        "The next function applies a bayesian model for finding Rt in the absence of an optimized sigma, it provides .15 as a default"
      ]
    },
    {
      "cell_type": "code",
      "metadata": {
        "id": "g4bKMAv57zoH",
        "colab_type": "code",
        "colab": {}
      },
      "source": [
        "def get_posteriors(sr, sigma=0.15):\n",
        "\n",
        "    lam = sr[:-1].values * np.exp(GAMMA * (r_t_range[:, None] - 1))\n",
        "    \n",
        "    likelihoods = pd.DataFrame(\n",
        "        data = sps.poisson.pmf(sr[1:].values, lam),\n",
        "        index = r_t_range,\n",
        "        columns = sr.index[1:])\n",
        "    process_matrix = sps.norm(loc=r_t_range,\n",
        "                              scale=sigma\n",
        "                             ).pdf(r_t_range[:, None]) \n",
        "    process_matrix /= process_matrix.sum(axis=0)\n",
        "    prior0 = np.ones_like(r_t_range)/len(r_t_range)\n",
        "    prior0 /= prior0.sum()\n",
        "\n",
        "    posteriors = pd.DataFrame(\n",
        "        index=r_t_range,\n",
        "        columns=sr.index,\n",
        "        data={sr.index[0]: prior0}\n",
        "    )\n",
        "    log_likelihood = 0.0\n",
        "    for previous_day, current_day in zip(sr.index[:-1], sr.index[1:]):\n",
        "\n",
        "        current_prior = process_matrix @ posteriors[previous_day]\n",
        "        numerator = likelihoods[current_day] * current_prior\n",
        "        denominator = np.sum(numerator)\n",
        "        posteriors[current_day] = numerator/denominator\n",
        "        log_likelihood += np.log(denominator)\n",
        "    \n",
        "    return posteriors, log_likelihood"
      ],
      "execution_count": 0,
      "outputs": []
    },
    {
      "cell_type": "markdown",
      "metadata": {
        "id": "J-9z7u9Q7zoP",
        "colab_type": "text"
      },
      "source": [
        "The next process finds an optimal sigma for each state-county combination, and performs the Rt calculation for every sigma"
      ]
    },
    {
      "cell_type": "code",
      "metadata": {
        "id": "qbbjJv0C7zoQ",
        "colab_type": "code",
        "outputId": "7e3e8c32-e5fe-4a34-aa1b-4c74b7b2c512",
        "colab": {
          "base_uri": "https://localhost:8080/",
          "height": 113
        }
      },
      "source": [
        "sigmas = np.linspace(1/20, 1, 20)\n",
        "\n",
        "results = {}\n",
        "for state_name, cases in rt_df.groupby(level='state-county'):\n",
        "    print(state_name)\n",
        "    new, smoothed = prepare_cases(cases, cutoff=5)\n",
        "    \n",
        "    if len(smoothed) == 0:\n",
        "        continue\n",
        "    \n",
        "    result = {}\n",
        "    \n",
        "    result['posteriors'] = []\n",
        "    result['log_likelihoods'] = []\n",
        "    for sigma in sigmas:\n",
        "        posteriors, log_likelihood = get_posteriors(smoothed, sigma=sigma)\n",
        "        result['posteriors'].append(posteriors)\n",
        "        result['log_likelihoods'].append(log_likelihood)\n",
        "    results[state_name] = result\n",
        "    clear_output(wait=True)\n",
        "\n",
        "print('Done.')"
      ],
      "execution_count": 0,
      "outputs": [
        {
          "output_type": "stream",
          "text": [
            "Wyoming-Uinta\n",
            "Wyoming-Unassigned\n",
            "Wyoming-Washakie\n",
            "Wyoming-Weston\n",
            "Done.\n"
          ],
          "name": "stdout"
        }
      ]
    },
    {
      "cell_type": "markdown",
      "metadata": {
        "id": "1lHjgFXw7zoZ",
        "colab_type": "text"
      },
      "source": [
        "The optimal value of sigma is identified "
      ]
    },
    {
      "cell_type": "code",
      "metadata": {
        "id": "uAExdF397zoa",
        "colab_type": "code",
        "colab": {}
      },
      "source": [
        "total_log_likelihoods = np.zeros_like(sigmas)\n",
        "\n",
        "for state_name, result in results.items():\n",
        "    total_log_likelihoods += result['log_likelihoods']\n",
        "\n",
        "max_likelihood_index = total_log_likelihoods.argmax()\n",
        "sigma = sigmas[max_likelihood_index]"
      ],
      "execution_count": 0,
      "outputs": []
    },
    {
      "cell_type": "markdown",
      "metadata": {
        "id": "cdFMtn3p7zoe",
        "colab_type": "text"
      },
      "source": [
        "The final result for each state is then extracted from the posteriors' matrix"
      ]
    },
    {
      "cell_type": "code",
      "metadata": {
        "id": "qJWwfMG37zog",
        "colab_type": "code",
        "outputId": "6c6b7089-5fb9-45ed-b897-f3a46e5fa8cd",
        "colab": {
          "base_uri": "https://localhost:8080/",
          "height": 36
        }
      },
      "source": [
        "final_results = None\n",
        "\n",
        "for state_name, result in results.items():\n",
        "    print(state_name)\n",
        "    posteriors = result['posteriors'][max_likelihood_index]\n",
        "    most_likely = posteriors.idxmax().rename('ML')\n",
        "    result = pd.concat([most_likely], axis=1)\n",
        "    if final_results is None:\n",
        "        final_results = result\n",
        "    else:\n",
        "        final_results = pd.concat([final_results, result])\n",
        "    clear_output(wait=True)\n",
        "\n",
        "print('Done.')"
      ],
      "execution_count": 0,
      "outputs": [
        {
          "output_type": "stream",
          "text": [
            "Done.\n"
          ],
          "name": "stdout"
        }
      ]
    },
    {
      "cell_type": "code",
      "metadata": {
        "id": "03KhC3zq7zop",
        "colab_type": "code",
        "colab": {}
      },
      "source": [
        "final_results.to_csv(\"final_results.csv\")"
      ],
      "execution_count": 0,
      "outputs": []
    },
    {
      "cell_type": "code",
      "metadata": {
        "id": "AVg8Kxm37zov",
        "colab_type": "code",
        "colab": {}
      },
      "source": [
        "final_results = pd.read_csv(\"final_results.csv\")"
      ],
      "execution_count": 0,
      "outputs": []
    },
    {
      "cell_type": "code",
      "metadata": {
        "id": "I4Beiqwd7zo1",
        "colab_type": "code",
        "colab": {}
      },
      "source": [
        "state = []\n",
        "\n",
        "county = []\n",
        "\n",
        "for row in range(0, len(final_results.index)):\n",
        "    state.append(final_results.loc[row, \"state-county\"].split(\"-\")[0])\n",
        "    county.append(final_results.loc[row, \"state-county\"].split(\"-\")[1])\n",
        "    \n",
        "final_results.loc[:, \"state\"] = state\n",
        "final_results.loc[:, \"county\"] = county"
      ],
      "execution_count": 0,
      "outputs": []
    },
    {
      "cell_type": "code",
      "metadata": {
        "id": "_vWigy3I7zo-",
        "colab_type": "code",
        "outputId": "8013aa30-765c-4636-c652-a7f813eb81aa",
        "colab": {
          "base_uri": "https://localhost:8080/",
          "height": 36
        }
      },
      "source": [
        "final_results.to_csv(\"final_results.csv\")\n",
        "\n",
        "\"\"\"\n",
        "REFERENCES\n",
        "\n",
        "Systrom, K. (2020) Estimating COVID-19's Rt in Real-Time. Retrieved from https://github.com/k-sys/covid-19/blob/master/Realtime%20R0.ipynb on 04/20/2020 and its implementation by Stephanie Dominguez.\n",
        "\n",
        "\n",
        "\"\"\""
      ],
      "execution_count": 0,
      "outputs": [
        {
          "output_type": "execute_result",
          "data": {
            "text/plain": [
              "\"\\nREFERENCES\\n\\nSystrom, K. (2020) Estimating COVID-19's Rt in Real-Time. Retrieved from https://github.com/k-sys/covid-19/blob/master/Realtime%20R0.ipynb on 04/20/2020\\n\\n\""
            ]
          },
          "metadata": {
            "tags": []
          },
          "execution_count": 29
        }
      ]
    },
    {
      "cell_type": "code",
      "metadata": {
        "id": "C9vzRHhOGrGb",
        "colab_type": "code",
        "colab": {}
      },
      "source": [
        "from google.colab import files\n",
        "files.download('final_results.csv') "
      ],
      "execution_count": 0,
      "outputs": []
    }
  ]
}